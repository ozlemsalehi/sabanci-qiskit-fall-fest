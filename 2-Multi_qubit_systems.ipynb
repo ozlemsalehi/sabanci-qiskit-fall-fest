{
 "cells": [
  {
   "cell_type": "markdown",
   "id": "cardiovascular-migration",
   "metadata": {},
   "source": [
    "<table width=\"100%\"><tr><td style=\"color:#bbbbbb;background-color:#ffffff;font-size:11px;font-style:italic;text-align:right;\">This cell contains some macros. If there is a problem with displaying mathematical formulas, please run this cell to load these macros. </td></tr></table>\n",
    "$ \\newcommand{\\bra}[1]{\\langle #1|} $\n",
    "$ \\newcommand{\\ket}[1]{|#1\\rangle} $\n",
    "$ \\newcommand{\\braket}[2]{\\langle #1|#2\\rangle} $\n",
    "$ \\newcommand{\\dot}[2]{ #1 \\cdot #2} $\n",
    "$ \\newcommand{\\biginner}[2]{\\left\\langle #1,#2\\right\\rangle} $\n",
    "$ \\newcommand{\\mymatrix}[2]{\\left( \\begin{array}{#1} #2\\end{array} \\right)} $\n",
    "$ \\newcommand{\\myvector}[1]{\\mymatrix{c}{#1}} $\n",
    "$ \\newcommand{\\myrvector}[1]{\\mymatrix{r}{#1}} $\n",
    "$ \\newcommand{\\mypar}[1]{\\left( #1 \\right)} $\n",
    "$ \\newcommand{\\mybigpar}[1]{ \\Big( #1 \\Big)} $\n",
    "$ \\newcommand{\\sqrttwo}{\\frac{1}{\\sqrt{2}}} $\n",
    "$ \\newcommand{\\dsqrttwo}{\\dfrac{1}{\\sqrt{2}}} $\n",
    "$ \\newcommand{\\onehalf}{\\frac{1}{2}} $\n",
    "$ \\newcommand{\\donehalf}{\\dfrac{1}{2}} $\n",
    "$ \\newcommand{\\hadamard}{ \\mymatrix{rr}{ \\sqrttwo & \\sqrttwo \\\\ \\sqrttwo & -\\sqrttwo }} $\n",
    "$ \\newcommand{\\vzero}{\\myvector{1\\\\0}} $\n",
    "$ \\newcommand{\\vone}{\\myvector{0\\\\1}} $\n",
    "$ \\newcommand{\\vhadamardzero}{\\myvector{ \\sqrttwo \\\\  \\sqrttwo } } $\n",
    "$ \\newcommand{\\vhadamardone}{ \\myrvector{ \\sqrttwo \\\\ -\\sqrttwo } } $\n",
    "$ \\newcommand{\\myarray}[2]{ \\begin{array}{#1}#2\\end{array}} $\n",
    "$ \\newcommand{\\X}{ \\mymatrix{cc}{0 & 1 \\\\ 1 & 0}  } $\n",
    "$ \\newcommand{\\Z}{ \\mymatrix{rr}{1 & 0 \\\\ 0 & -1}  } $\n",
    "$ \\newcommand{\\Htwo}{ \\mymatrix{rrrr}{ \\frac{1}{2} & \\frac{1}{2} & \\frac{1}{2} & \\frac{1}{2} \\\\ \\frac{1}{2} & -\\frac{1}{2} & \\frac{1}{2} & -\\frac{1}{2} \\\\ \\frac{1}{2} & \\frac{1}{2} & -\\frac{1}{2} & -\\frac{1}{2} \\\\ \\frac{1}{2} & -\\frac{1}{2} & -\\frac{1}{2} & \\frac{1}{2} } } $\n",
    "$ \\newcommand{\\CNOT}{ \\mymatrix{cccc}{1 & 0 & 0 & 0 \\\\ 0 & 1 & 0 & 0 \\\\ 0 & 0 & 0 & 1 \\\\ 0 & 0 & 1 & 0} } $\n",
    "$ \\newcommand{\\norm}[1]{ \\left\\lVert #1 \\right\\rVert } $\n",
    "$ \\newcommand{\\blackbit}[1] {\\mathbf{{\\color{black}#1}}} $\n",
    "$ \\newcommand{\\bluebit}[1] {\\mathbf{{\\color{blue}#1}}} $"
   ]
  },
  {
   "cell_type": "markdown",
   "id": "hawaiian-grade",
   "metadata": {},
   "source": [
    "<h2> İki Olasılıksal Bit</h2>\n",
    "\n",
    "İki olasılıksal bitimiz olsun.\n",
    "\n",
    "$ \\myvector{0.2 \\\\ 0.8} \\mbox{ and } \\myvector{0.6 \\\\ 0.4 }. $\n",
    "\n",
    "İki bit 4 farklı durumda olabilir:\n",
    "<ul>\n",
    "    <li>$00$: İki bit 0 durumunda</li>\n",
    "    <li>$01$: 1. bit 0, 2. bit 1 durumunda</li>\n",
    "    <li>$10$: 1. bit 1, 2. bit 0 durumunda</li>\n",
    "    <li>$11$: İki bit 1 durumunda </li>\n",
    "</ul>"
   ]
  },
  {
   "cell_type": "markdown",
   "id": "roman-upper",
   "metadata": {},
   "source": [
    "## İki kubit"
   ]
  },
  {
   "cell_type": "markdown",
   "id": "handy-rachel",
   "metadata": {},
   "source": [
    "Birden fazla kubit tensor işlemi ile bir araya getirilir.\n",
    "\n",
    "$ \\ket{x} \\otimes \\ket{y} = \\ket{xy} $. "
   ]
  },
  {
   "cell_type": "markdown",
   "id": "ambient-windows",
   "metadata": {},
   "source": [
    "İki kubitli bir sistem 4 farklı durumda $|00\\rangle$ ,$|01\\rangle$,$|10\\rangle$,$|11\\rangle$ ya da bunların süperpozisyonunda bulunabilir:\n",
    "\n",
    "$$\\alpha_{00}\\ket{00} + \\alpha_{01}\\ket{01} + \\alpha_{10}\\ket{10} + \\alpha_{11}\\ket{11}$$\n"
   ]
  },
  {
   "cell_type": "markdown",
   "id": "revolutionary-anniversary",
   "metadata": {},
   "source": [
    "### Tensor çarpımı\n",
    "\n",
    "1. $ \\alpha_x\\ket{x} \\otimes \\alpha_y\\ket{y} = \\alpha_x\\cdot \\alpha_y\\ket{xy} $ , for $ x,y \\in \\{0,1\\} $.\n",
    "    \n",
    "2. Tensör çarpımı, çarpma işlemi gibi toplama üzerine dağılır."
   ]
  },
  {
   "cell_type": "markdown",
   "id": "prepared-annotation",
   "metadata": {},
   "source": [
    "1. kubit $  \\myvector{\\frac{1}{\\sqrt{3}} \\\\ \\frac{\\sqrt{2}}{\\sqrt{3}} } = \\frac{1}{\\sqrt{3}} \\ket{0} + \\frac{\\sqrt{2}}{\\sqrt{3}} \\ket{1} ~~$    2. kubit $ \\myvector{-\\frac{1}{\\sqrt{2}} \\\\ \\frac{1}{\\sqrt{2}} } = -\\frac{1}{\\sqrt{2}} \\ket{0} + \\frac{1}{\\sqrt{2}} \\ket{1} $  durumundaysa"
   ]
  },
  {
   "cell_type": "markdown",
   "id": "normal-mason",
   "metadata": {},
   "source": [
    "$$ \\Bigg(\\frac{1}{\\sqrt{3}} \\ket{0} + \\frac{\\sqrt{2}}{\\sqrt{3}} \\ket{1} \\Bigg ) \\otimes  \\Bigg( -\\frac{1}{\\sqrt{2}} \\ket{0} + \\frac{1}{\\sqrt{2}} \\ket{1} \\Bigg )=$$\n",
    "\n",
    "\n",
    "$$ -\\frac{1}{\\sqrt{6}}\\big( \\ket{0} \\otimes \\ket{0} \\big) + \\frac{1}{\\sqrt{6}} \\big( \\ket{0} \\otimes \\ket{1} \\big) -\\frac{\\sqrt{2}}{\\sqrt{6}} \\big( \\ket{1} \\otimes \\ket{0} \\big) + \\frac{\\sqrt{2}}{\\sqrt{6}} \\big( \\ket{1} \\otimes \\ket{1} \\big) = $$\n",
    "\n",
    "$$ -\\frac{1}{\\sqrt{6}} \\ket{00} + \\frac{1}{\\sqrt{6}} \\ket{01} -\\frac{\\sqrt{2}}{\\sqrt{6}} \\ket{10} + \\frac{\\sqrt{2}}{\\sqrt{6}} \\ket{11}. $$"
   ]
  },
  {
   "cell_type": "markdown",
   "id": "progressive-accountability",
   "metadata": {},
   "source": [
    "### Vektörlerin tensor çarpımı"
   ]
  },
  {
   "cell_type": "markdown",
   "id": "removable-reaction",
   "metadata": {},
   "source": [
    "\n",
    " $ \\myvector{a_1 \\\\ b_1} \\otimes \\myvector{a_2 \\\\ b_2 } = \\myvector{ a_1 \\myvector{a_2 \\\\ b_2} \\\\ b_1 \\myvector{a_2 \\\\ b_2}  } = \\myvector{a_1 \\cdot a_2 \\\\ a_1 \\cdot b_2 \\\\ b_1 \\cdot a_2 \\\\ b_1 \\cdot b_2} $."
   ]
  },
  {
   "cell_type": "markdown",
   "id": "adjustable-disney",
   "metadata": {},
   "source": [
    "1. kubit $  \\myvector{\\frac{1}{\\sqrt{3}} \\\\ \\frac{\\sqrt{2}}{\\sqrt{3}} } = \\frac{1}{\\sqrt{3}} \\ket{0} + \\frac{\\sqrt{2}}{\\sqrt{3}} \\ket{1} ~~$    2. kubit $ \\myvector{-\\frac{1}{\\sqrt{2}} \\\\ \\frac{1}{\\sqrt{2}} } = -\\frac{1}{\\sqrt{2}} \\ket{0} + \\frac{1}{\\sqrt{2}} \\ket{1} $  durumundaysa"
   ]
  },
  {
   "cell_type": "markdown",
   "id": "specialized-collect",
   "metadata": {},
   "source": [
    " $$  \\myvector{\\frac{1}{\\sqrt{3}} \\\\ \\frac{\\sqrt{2}}{\\sqrt{3}} }  \\otimes \\myvector{-\\frac{1}{\\sqrt{2}} \\\\ \\frac{1}{\\sqrt{2}} }=   \n",
    " \\myvector{ \n",
    " \\frac{1}{\\sqrt{3}}\n",
    " \\myvector{-\\frac{1}{\\sqrt{2}} \\\\ \\frac{1}{\\sqrt{2}}}  \\\\ \n",
    " \\frac{\\sqrt{2}}{\\sqrt{3}} \n",
    " \\myvector{-\\frac{1}{\\sqrt{2}} \\\\ \\frac{1}{\\sqrt{2}} } } = \n",
    " \\myvector{ -\\frac{1}{\\sqrt{6}} \\\\ \\frac{1}{\\sqrt{6}} \\\\ -\\frac{\\sqrt{2}}{\\sqrt{6}} \\\\\\frac{\\sqrt{2}}{\\sqrt{6}}  }$$ "
   ]
  },
  {
   "cell_type": "markdown",
   "id": "funded-hacker",
   "metadata": {},
   "source": [
    "### Baz durumların vektör gösterimi"
   ]
  },
  {
   "cell_type": "markdown",
   "id": "complicated-threshold",
   "metadata": {},
   "source": [
    "$$\n",
    "    \\ket{00} =  \\ket{0} \\otimes \\ket{0} = \\vzero \\otimes \\vzero =  \\myvector{1 \\\\ 0 \\\\ 0 \\\\ 0}.\n",
    "$$\n",
    "\n",
    "$$\n",
    "    \\ket{01} =  \\ket{0} \\otimes \\ket{1} = \\vzero \\otimes \\vone =  \\myvector{0 \\\\ 1 \\\\ 0 \\\\ 0}.\n",
    "$$\n",
    "\n",
    "$$\n",
    "    \\ket{10} =  \\ket{1} \\otimes \\ket{0} = \\vone \\otimes \\vzero =  \\myvector{0 \\\\ 0 \\\\ 1 \\\\ 0}.\n",
    "$$\n",
    "\n",
    "$$\n",
    "    \\ket{11} =  \\ket{1} \\otimes \\ket{1} = \\vone \\otimes \\vone =  \\myvector{0 \\\\ 0 \\\\ 0 \\\\ 1}.\n",
    "$$"
   ]
  },
  {
   "cell_type": "markdown",
   "id": "pacific-coffee",
   "metadata": {},
   "source": [
    "### Birden fazla kubit\n",
    "\n",
    "$n$ kubitli bir sistemin baz durumları $ a_i \\in \\{0,1\\}$ olmak üzere $\\ket{a_1a_2\\dots a_n}$ şeklindedir. \n",
    "\n",
    "Sistemi ifade eden vektörün $2^n$ girdisi vardır."
   ]
  },
  {
   "cell_type": "code",
   "execution_count": 5,
   "id": "otherwise-reducing",
   "metadata": {},
   "outputs": [
    {
     "name": "stdout",
     "output_type": "stream",
     "text": [
      "{'0100': 1024}\n"
     ]
    }
   ],
   "source": [
    "from qiskit import QuantumRegister, ClassicalRegister, QuantumCircuit\n",
    "from qiskit_aer import AerSimulator\n",
    "\n",
    "# we will use 4 quantum bits and 4 classical bits\n",
    "qreg1 =  QuantumRegister(4,\"q\")\n",
    "creg1 = ClassicalRegister(4,\"c\")\n",
    "\n",
    "mycircuit = QuantumCircuit(qreg1,creg1)\n",
    "\n",
    "mycircuit.x(qreg1[2])\n",
    "\n",
    "mycircuit.measure(qreg1,creg1)\n",
    "job = AerSimulator().run(mycircuit,shots=1024)\n",
    "\n",
    "counts = job.result().get_counts(mycircuit)\n",
    "print(counts) "
   ]
  },
  {
   "cell_type": "code",
   "execution_count": 2,
   "id": "temporal-distinction",
   "metadata": {},
   "outputs": [
    {
     "data": {
      "image/png": "[encoded data removed]",
      "text/plain": [
       "<Figure size 454.719x451.5 with 1 Axes>"
      ]
     },
     "execution_count": 2,
     "metadata": {},
     "output_type": "execute_result"
    }
   ],
   "source": [
    "mycircuit.draw(output='mpl')"
   ]
  },
  {
   "cell_type": "markdown",
   "id": "0cea18d1-5eca-474b-8c86-203e80d1bacb",
   "metadata": {},
   "source": [
    "### Task 1"
   ]
  },
  {
   "cell_type": "markdown",
   "id": "e7d4b7b9-9dd2-4776-abeb-4bbf0bb10e15",
   "metadata": {},
   "source": [
    "5 kubitlik bir devre oluşturup tüm kubitlere H uygulayın."
   ]
  },
  {
   "cell_type": "code",
   "execution_count": 4,
   "id": "correct-browse",
   "metadata": {},
   "outputs": [],
   "source": [
    "from qiskit import QuantumRegister, ClassicalRegister, QuantumCircuit\n",
    "from qiskit_aer import AerSimulator\n",
    "\n",
    "\n",
    "\n",
    "\n",
    "\n"
   ]
  },
  {
   "cell_type": "markdown",
   "id": "novel-maximum",
   "metadata": {},
   "source": [
    "## CNOT kapısı"
   ]
  },
  {
   "cell_type": "markdown",
   "id": "increasing-search",
   "metadata": {},
   "source": [
    "$ CNOT= \\mymatrix{cc|cc}{\\blackbit{1} & 0 & 0 & 0 \\\\ 0 & \\blackbit{1} & 0 & 0 \\\\ \\hline 0 & 0 & 0 & \\bluebit{1} \\\\  0 & 0 & \\bluebit{1} & 0} . $\n",
    "\n",
    "<ul>\n",
    "    <li>$ CNOT \\ket{00} = \\ket{00} $, </li>\n",
    "    <li>$ CNOT \\ket{01} = \\ket{01} $, </li>\n",
    "    <li>$ CNOT \\ket{10} = \\ket{11} $, </li>\n",
    "    <li>$ CNOT \\ket{11} = \\ket{10} $. </li>\n",
    "</ul>"
   ]
  },
  {
   "cell_type": "code",
   "execution_count": 8,
   "id": "069b8c25-e7dd-4abe-ac91-7cb92b354b9c",
   "metadata": {},
   "outputs": [
    {
     "name": "stdout",
     "output_type": "stream",
     "text": [
      "{'00': 1024}\n"
     ]
    }
   ],
   "source": [
    "from qiskit import QuantumRegister, ClassicalRegister, QuantumCircuit\n",
    "from qiskit_aer import AerSimulator\n",
    "\n",
    "mycircuit = QuantumCircuit(2, 2)\n",
    "\n",
    "mycircuit.cx(0,1)\n",
    "\n",
    "mycircuit.measure(0,0)\n",
    "mycircuit.measure(1,1)\n",
    "\n",
    "job = AerSimulator().run(mycircuit,shots=1024)\n",
    "\n",
    "counts = job.result().get_counts(mycircuit)\n",
    "print(counts) "
   ]
  },
  {
   "cell_type": "markdown",
   "id": "fc8728f3-ec5f-4d64-b95a-1398cd479b36",
   "metadata": {},
   "source": [
    "### Task 2"
   ]
  },
  {
   "cell_type": "markdown",
   "id": "ca2fbc6b-5e62-413f-b2b9-464b01ab2496",
   "metadata": {},
   "source": [
    "2 kubitlik bir devre oluşturup önce 0 indisli kubit H, sonra 0 indisli kubit kontrol 1 indisli kubit hedef olmak üzere CNOT uygulayın."
   ]
  },
  {
   "cell_type": "code",
   "execution_count": null,
   "id": "63306776-7fa9-4ad6-9e40-aea336c849db",
   "metadata": {},
   "outputs": [],
   "source": [
    "from qiskit import QuantumRegister, ClassicalRegister, QuantumCircuit\n",
    "from qiskit_aer import AerSimulator\n",
    "\n",
    "\n",
    "\n",
    "\n",
    "\n"
   ]
  }
 ],
 "metadata": {
  "kernelspec": {
   "display_name": "Python 3 (ipykernel)",
   "language": "python",
   "name": "python3"
  },
  "language_info": {
   "codemirror_mode": {
    "name": "ipython",
    "version": 3
   },
   "file_extension": ".py",
   "mimetype": "text/x-python",
   "name": "python",
   "nbconvert_exporter": "python",
   "pygments_lexer": "ipython3",
   "version": "3.12.7"
  }
 },
 "nbformat": 4,
 "nbformat_minor": 5
}
