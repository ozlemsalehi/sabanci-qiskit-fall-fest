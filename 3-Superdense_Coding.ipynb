{
 "cells": [
  {
   "cell_type": "markdown",
   "id": "pursuant-cruise",
   "metadata": {},
   "source": [
    "<table width=\"100%\"><tr><td style=\"color:#bbbbbb;background-color:#ffffff;font-size:11px;font-style:italic;text-align:right;\">This cell contains some macros. If there is a problem with displaying mathematical formulas, please run this cell to load these macros. </td></tr></table>\n",
    "$ \\newcommand{\\bra}[1]{\\langle #1|} $\n",
    "$ \\newcommand{\\ket}[1]{|#1\\rangle} $\n",
    "$ \\newcommand{\\braket}[2]{\\langle #1|#2\\rangle} $\n",
    "$ \\newcommand{\\dot}[2]{ #1 \\cdot #2} $\n",
    "$ \\newcommand{\\biginner}[2]{\\left\\langle #1,#2\\right\\rangle} $\n",
    "$ \\newcommand{\\mymatrix}[2]{\\left( \\begin{array}{#1} #2\\end{array} \\right)} $\n",
    "$ \\newcommand{\\myvector}[1]{\\mymatrix{c}{#1}} $\n",
    "$ \\newcommand{\\myrvector}[1]{\\mymatrix{r}{#1}} $\n",
    "$ \\newcommand{\\mypar}[1]{\\left( #1 \\right)} $\n",
    "$ \\newcommand{\\mybigpar}[1]{ \\Big( #1 \\Big)} $\n",
    "$ \\newcommand{\\sqrttwo}{\\frac{1}{\\sqrt{2}}} $\n",
    "$ \\newcommand{\\dsqrttwo}{\\dfrac{1}{\\sqrt{2}}} $\n",
    "$ \\newcommand{\\onehalf}{\\frac{1}{2}} $\n",
    "$ \\newcommand{\\donehalf}{\\dfrac{1}{2}} $\n",
    "$ \\newcommand{\\hadamard}{ \\mymatrix{rr}{ \\sqrttwo & \\sqrttwo \\\\ \\sqrttwo & -\\sqrttwo }} $\n",
    "$ \\newcommand{\\vzero}{\\myvector{1\\\\0}} $\n",
    "$ \\newcommand{\\vone}{\\myvector{0\\\\1}} $\n",
    "$ \\newcommand{\\vhadamardzero}{\\myvector{ \\sqrttwo \\\\  \\sqrttwo } } $\n",
    "$ \\newcommand{\\vhadamardone}{ \\myrvector{ \\sqrttwo \\\\ -\\sqrttwo } } $\n",
    "$ \\newcommand{\\myarray}[2]{ \\begin{array}{#1}#2\\end{array}} $\n",
    "$ \\newcommand{\\X}{ \\mymatrix{cc}{0 & 1 \\\\ 1 & 0}  } $\n",
    "$ \\newcommand{\\Z}{ \\mymatrix{rr}{1 & 0 \\\\ 0 & -1}  } $\n",
    "$ \\newcommand{\\Htwo}{ \\mymatrix{rrrr}{ \\frac{1}{2} & \\frac{1}{2} & \\frac{1}{2} & \\frac{1}{2} \\\\ \\frac{1}{2} & -\\frac{1}{2} & \\frac{1}{2} & -\\frac{1}{2} \\\\ \\frac{1}{2} & \\frac{1}{2} & -\\frac{1}{2} & -\\frac{1}{2} \\\\ \\frac{1}{2} & -\\frac{1}{2} & -\\frac{1}{2} & \\frac{1}{2} } } $\n",
    "$ \\newcommand{\\CNOT}{ \\mymatrix{cccc}{1 & 0 & 0 & 0 \\\\ 0 & 1 & 0 & 0 \\\\ 0 & 0 & 0 & 1 \\\\ 0 & 0 & 1 & 0} } $\n",
    "$ \\newcommand{\\norm}[1]{ \\left\\lVert #1 \\right\\rVert } $\n",
    "$ \\newcommand{\\blackbit}[1] {\\mathbf{{\\color{black}#1}}} $\n",
    "$ \\newcommand{\\bluebit}[1] {\\mathbf{{\\color{blue}#1}}} $"
   ]
  },
  {
   "cell_type": "markdown",
   "id": "warming-loading",
   "metadata": {},
   "source": [
    "## Dolanıklık"
   ]
  },
  {
   "cell_type": "markdown",
   "id": "indirect-campbell",
   "metadata": {},
   "source": [
    "Başlangıçta ikisi de $ \\ket{0} $ durumunda olan iki kubit var."
   ]
  },
  {
   "cell_type": "markdown",
   "id": "simplified-clothing",
   "metadata": {},
   "source": [
    "1. kubite Hadamard uyguluyoruz. \n",
    "\n",
    "$ \\vhadamardzero \\otimes \\vzero = \\myvector{ \\frac{1}{\\sqrt{2}} \\\\ 0 \\\\ \\frac{1}{\\sqrt{2}} \\\\ 0 }  $.\n"
   ]
  },
  {
   "cell_type": "markdown",
   "id": "experimental-abuse",
   "metadata": {},
   "source": [
    "1. kubit kontrol, 2. kubit hedef olmak üzere CNOT uyguluyoruz.\n",
    "\n",
    "$ \\CNOT \\myvector{ \\frac{1}{\\sqrt{2}} \\\\ 0 \\\\ \\frac{1}{\\sqrt{2}} \\\\ 0 }  = \\myvector{ \\frac{1}{\\sqrt{2}} \\\\ 0 \\\\0 \\\\ \\frac{1}{\\sqrt{2}} } = \\frac{1}{\\sqrt{2}}\\ket{00} + \\frac{1}{\\sqrt{2}}\\ket{11}  $.\n",
    "\n",
    "Sistem ölçüldüğünde ya $ \\ket{00} $ ya da $ \\ket{11} $ durumunda gözlemlenecektir. \n",
    "\n",
    "1.kubit ölçüldüğünde $ \\ket{0} $ durumu gözlemlenirse, 2. kubit de $ \\ket{0} $ durumuna çöker.\n",
    "\n",
    "1.kubit ölçüldüğünde $ \\ket{1} $ durumu gözlemlenirse, 2. kubit de $ \\ket{1} $ durumuna çöker."
   ]
  },
  {
   "cell_type": "markdown",
   "id": "funny-kidney",
   "metadata": {},
   "source": [
    "Dolanık kubitler, $\\ket{u} \\otimes \\ket{v}$ şeklinde ifade edilemezler."
   ]
  },
  {
   "cell_type": "markdown",
   "id": "3c475727-4c5c-4a86-8bf7-ba78608a7d83",
   "metadata": {},
   "source": [
    "$\\frac{1}{\\sqrt{2}}\\ket{00} - \\frac{1}{\\sqrt{2}}\\ket{11}$\n",
    "\n",
    "$\\frac{1}{\\sqrt{2}}\\ket{01} + \\frac{1}{\\sqrt{2}}\\ket{10}$\n",
    "\n",
    "$\\frac{1}{\\sqrt{2}}\\ket{01} - \\frac{1}{\\sqrt{2}}\\ket{10}$\n",
    " durumları da dolanık durumlara örnektir."
   ]
  },
  {
   "cell_type": "markdown",
   "id": "2db2b6b1-5bba-4516-b223-90c85b42259a",
   "metadata": {},
   "source": [
    "### Task 1"
   ]
  },
  {
   "cell_type": "markdown",
   "id": "76b1dcbc-17cc-4a95-85c7-4514c8edc4ad",
   "metadata": {},
   "source": [
    "Yukarıda verilen 3 durumu temsil eden devreleri oluşturun."
   ]
  },
  {
   "cell_type": "code",
   "execution_count": null,
   "id": "bf2e749f-e08f-43d4-b9cf-c87cee4886b1",
   "metadata": {},
   "outputs": [],
   "source": [
    "from qiskit import QuantumRegister, ClassicalRegister, QuantumCircuit\n",
    "from qiskit_aer import AerSimulator\n",
    "\n",
    "\n",
    "\n",
    "\n",
    "\n"
   ]
  },
  {
   "cell_type": "code",
   "execution_count": null,
   "id": "b9e5fd3d-4d01-4d38-ae46-37cb7eff4305",
   "metadata": {},
   "outputs": [],
   "source": [
    "from qiskit import QuantumRegister, ClassicalRegister, QuantumCircuit\n",
    "from qiskit_aer import AerSimulator\n",
    "\n",
    "\n",
    "\n",
    "\n",
    "\n"
   ]
  },
  {
   "cell_type": "code",
   "execution_count": null,
   "id": "081e2540-2ebc-4878-b1f3-bd3367f9a926",
   "metadata": {},
   "outputs": [],
   "source": [
    "from qiskit import QuantumRegister, ClassicalRegister, QuantumCircuit\n",
    "from qiskit_aer import AerSimulator\n",
    "\n",
    "\n",
    "\n",
    "\n",
    "\n"
   ]
  },
  {
   "cell_type": "markdown",
   "id": "traditional-independence",
   "metadata": {},
   "source": [
    "## Yoğun kodlama"
   ]
  },
  {
   "cell_type": "markdown",
   "id": "political-honolulu",
   "metadata": {},
   "source": [
    "Ayşe ile Bora bir dolanık kübit çiftine sahipse, Ayşe Bora'ya (ya da Bora Ayşe'ye) tek bir kubit ile 2 bitlik bilgi gönderebilir."
   ]
  },
  {
   "cell_type": "markdown",
   "id": "major-reception",
   "metadata": {},
   "source": [
    "Öncelikle Ayşe ve Bora'nın kubitini dolanık hale getiriyoruz.\n",
    "\n",
    "- Ayşe'nin kubitine Hadamard,\n",
    "- Ayşe'nin kubiti kontrol, Bora'nın hedef olmak üzere CNOT\n",
    "\n",
    "uyguluyoruz."
   ]
  },
  {
   "cell_type": "markdown",
   "id": "modified-domestic",
   "metadata": {},
   "source": [
    "Ayşe 2 bitlik $ (x,y) $ bilgisini Bora'ya göndermek istiyor:  $ (0,0), (0,1), (1,0),\\mbox{ or } (1,1) $. \n",
    "\n",
    "- $x$ 1 ise, Ayşe kendi kubitine $Z$ kapısı uyguluyor.\n",
    "\n",
    "- $y$ 1 ise, Ayşe kendi kubitine $X$ kapısı uyguluyor.\n",
    "\n",
    "Ayşe kubitini Bora'ya gönderiyor.\n",
    "\n",
    "$$\n",
    "\\begin{matrix}\n",
    " xy & Operation & Result \\\\ \n",
    " -----------&-----------&----------- \\\\\n",
    " {00} & - & \\sqrttwo\\ket{00} + \\sqrttwo\\ket{11} \\\\ \n",
    " {01} & X & \\sqrttwo\\ket{10} + \\sqrttwo\\ket{01} \\\\  \n",
    " {10} & Z & \\sqrttwo\\ket{00} - \\sqrttwo\\ket{11} \\\\  \n",
    " {11} & XZ & \\sqrttwo\\ket{10} - \\sqrttwo\\ket{01}    \n",
    "\\end{matrix}\n",
    "$$"
   ]
  },
  {
   "cell_type": "markdown",
   "id": "geographic-biology",
   "metadata": {},
   "source": [
    "- Bora önce CNOT (Ayşe'nin kubiti kontrol, Bora'nın kubiti hedef kubit)\n",
    "\n",
    "- Sonra Ayşe'nin gönderdiği kubiti Hadamard uyguluyor.\n",
    "\n",
    "- 2 kubiti birden ölçüyor."
   ]
  },
  {
   "cell_type": "markdown",
   "id": "f2426cb0-077c-4b1e-a4cf-e1c2ef70d25e",
   "metadata": {},
   "source": [
    "### Task 2"
   ]
  },
  {
   "cell_type": "markdown",
   "id": "df2e3fc1-e58b-423e-9bbc-f3035f98d536",
   "metadata": {},
   "source": [
    "Yoğun kodlama protokolünü $xy=10$ durumu için simüle edin."
   ]
  },
  {
   "cell_type": "markdown",
   "id": "53ea8480-a26f-44bd-ac97-a73d6b7e0b38",
   "metadata": {},
   "source": [
    "İki kuantum biti içeren bir kuantum devresi oluşturun: Ayşe'nin ve Bora'nın bitleri. Başlangıçta her ikisi de ∣0⟩ durumunda olsun.\n",
    "\n",
    "Ayşe'nin qubitine H-kapısı uygulayın.\n",
    "CNOT uygulayın: Ayşe'nin qubitini kontrol biti, Bora'nın qubitini hedef biti olarak seçin.\n",
    "Eğer $ x $ 1 ise, Ayşe'nin qubitine Z-kapısı uygulayın.\n",
    "Eğer $ y $ 1 ise, Ayşe'nin qubitine X-kapısı  uygulayın.\n",
    "Ayşe'nin qubitini Bora'ya göndereceğini varsayın.\n",
    "\n",
    "CNOT uygulayın: Ayşe'nin qubitini kontrol biti, Bora'nın qubitini hedef biti olarak seçin.\n",
    "Ayşe'nin qubitine H-kapısı uygulayın.\n",
    "Her iki qubiti de ölçün ve sonuçları $ (x,y) $ çifti ile karşılaştırın."
   ]
  },
  {
   "cell_type": "code",
   "execution_count": null,
   "id": "1a01d2d7-751e-4400-a1f5-b8d3b3ea6929",
   "metadata": {},
   "outputs": [],
   "source": [
    "from qiskit import QuantumRegister, ClassicalRegister, QuantumCircuit\n",
    "from qiskit_aer import AerSimulator\n",
    "\n",
    "\n",
    "\n",
    "\n",
    "\n"
   ]
  }
 ],
 "metadata": {
  "kernelspec": {
   "display_name": "Python 3 (ipykernel)",
   "language": "python",
   "name": "python3"
  },
  "language_info": {
   "codemirror_mode": {
    "name": "ipython",
    "version": 3
   },
   "file_extension": ".py",
   "mimetype": "text/x-python",
   "name": "python",
   "nbconvert_exporter": "python",
   "pygments_lexer": "ipython3",
   "version": "3.12.7"
  }
 },
 "nbformat": 4,
 "nbformat_minor": 5
}
